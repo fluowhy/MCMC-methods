{
 "cells": [
  {
   "cell_type": "code",
   "execution_count": 3,
   "metadata": {
    "scrolled": true
   },
   "outputs": [
    {
     "data": {
      "text/plain": [
       "'\\n!pip install numpy\\n!pip install matplotlib\\n!pip install scipy\\n!pip install getdist\\n'"
      ]
     },
     "execution_count": 3,
     "metadata": {},
     "output_type": "execute_result"
    }
   ],
   "source": [
    "# run only if you have not installed the next libraries\n",
    "\"\"\"\n",
    "!pip install numpy\n",
    "!pip install matplotlib\n",
    "!pip install scipy\n",
    "!pip install getdist\n",
    "\"\"\"\n"
   ]
  },
  {
   "cell_type": "code",
   "execution_count": 4,
   "metadata": {},
   "outputs": [],
   "source": [
    "import numpy as np\n",
    "import matplotlib.pyplot as plt\n",
    "from scipy import integrate as sci\n",
    "import time\n",
    "from getdist import plots, MCSamples\n",
    "import time\n",
    "%matplotlib inline"
   ]
  },
  {
   "cell_type": "markdown",
   "metadata": {},
   "source": [
    "# Gradiente de U\n",
    "\n",
    "$\\LARGE U = -\\log(L(\\textbf{q})p(\\textbf{q})) = - \\log(L) -  \\log(p)$\n",
    "\n",
    "$\\LARGE \\nabla_{q} U = -\\frac{1}{L}\\frac{\\partial L}{\\partial q} - \\frac{1}{p}\\frac{\\partial p}{\\partial q} = -\\frac{1}{L}\\frac{\\partial L}{\\partial q}$\n",
    "\n",
    "Si el prior $p$ es uniforme, $\\frac{\\partial p}{\\partial q} = 0$\n",
    "\n",
    "$\\LARGE \\frac{\\partial L}{\\partial q} = \\frac{\\partial}{\\partial q}(N\\exp(-\\frac{\\chi^{2}}{2})) = -N \\chi \\exp(-\\frac{\\chi^{2}}{2})\\frac{\\partial \\chi}{\\partial q}$\n",
    "\n",
    "$\\LARGE \\frac{\\partial \\chi}{\\partial q} = \\frac{\\partial}{\\partial q}(A - \\frac{B^{2}}{C}) = \\frac{\\partial A}{\\partial q} - 2\\frac{B}{C} \\frac{\\partial B}{\\partial q}$\n",
    "\n",
    "$\\LARGE \\frac{\\partial A}{\\partial q} = \\frac{\\partial}{\\partial q}(\\sum_{i}\\frac{(\\mu_{i} - \\mu)^{2}}{\\sigma_{i}^{2}}) = -\\sum_{i}\\frac{2(\\mu_{i} - \\mu)}{\\sigma_{i}^{2}} \\frac{\\partial \\mu}{\\partial q}$\n",
    "\n",
    "$\\LARGE \\frac{\\partial B}{\\partial q} = \\frac{\\partial}{\\partial q}(\\sum_{i}\\frac{(\\mu_{i} - \\mu)}{\\sigma_{i}^{2}}) = - \\sum_{i} \\frac{1}{\\sigma_{i}^{2}} \\frac{\\partial \\mu}{\\partial q}$\n",
    "\n",
    "$\\LARGE \\frac{\\partial \\mu}{\\partial q} = \\frac{\\partial}{\\partial q} (5 \\log_{10}(\\bar{d}_{L})) = \\frac{5}{\\log{10}} \\frac{1}{\\bar{d}_{L}} \\frac{\\partial \\bar{d}_{L}}{\\partial q}$\n",
    "\n",
    "$\\LARGE \\frac{\\partial \\bar{d}_{L}}{\\partial q} = \\frac{\\partial}{\\partial q}(\\frac{d_{L}}{d_{H}}) = \\frac{1}{d_{H}} \\frac{\\partial d_{L}}{\\partial q}$\n",
    "\n",
    "$\\LARGE \\frac{\\partial d_{L}}{\\partial q} = \\frac{\\partial}{\\partial q}((1 + z)\\, d_{M}) = (1 + z)\\frac{\\partial d_{M}}{\\partial q}$\n",
    "\n",
    "$\n",
    "\\begin{eqnarray}\n",
    "\\frac{\\partial\\ d_{M}}{\\partial q} & = &  \\left\\{\n",
    "\t\\begin{array}{ll}\n",
    "\t\t\\frac{\\partial f_{1}}{\\partial q} & \\mbox{if } \\Omega_{k} > 0 \\\\\n",
    "\t\t\\frac{\\partial f_{2}}{\\partial q} & \\mbox{if } \\Omega_{k} = 0 \\\\\n",
    "        \\frac{\\partial f_{3}}{\\partial q} & \\mbox{if } \\Omega_{k} < 0 \n",
    "\t\\end{array}\n",
    "\\right.\n",
    "\\end{eqnarray}\n",
    "$\n",
    "\n",
    "\\begin{align}\n",
    "        \\frac{\\partial f_{1}}{\\partial q} = \\frac{\\partial}{\\partial q}(\\frac{d_{H}}{\\sqrt\\Omega_{k}}\\sinh(\\sqrt{\\Omega_{k}}\\int_{0}^{z}\\frac{dz'}{E[z']}))\\\\\n",
    "        \\frac{\\partial f_{1}}{\\partial q} = d_{H} [-\\frac{1}{2}\\Omega_{k}^{-3/2}\\frac{\\partial \\Omega_{k}}{\\partial q}\\sinh(\\sqrt{\\Omega_{k}}\\int_{0}^{z}\\frac{dz'}{E(z')}) + \\Omega_{k}^{-1/2}\\cosh(\\sqrt{\\Omega_{k}}\\int_{0}^{z}\\frac{dz'}{E(z')})\\frac{\\partial}{\\partial q}(\\sqrt{\\Omega_{k}}\\int_{0}^{z}\\frac{dz'}{E(z')})\n",
    "\\end{align}\n"
   ]
  },
  {
   "cell_type": "code",
   "execution_count": 201,
   "metadata": {},
   "outputs": [],
   "source": [
    "# Este programa implementa Hamiltonian Markov Chain Monte Carlo. El núcleo utilizado se basa en Metropolis Hastings.\n",
    "\n",
    "def likelihood(mod, dat, sigma): # retorna escalar, log(L)\n",
    "    sig = np.diagonal(sigma)\n",
    "    L = -0.5*chi2(mod, dat, sigma)[0]  + np.sum(-0.5*np.log(2*np.pi*sig**2))\n",
    "    #pp = np.argwhere((a1==-np.inf))\n",
    "    #a1[pp] = 0\n",
    "    return L\n",
    "\n",
    "\n",
    "def chi2(mod, dat, sigma):\n",
    "    sig = np.diagonal(sigma)\n",
    "    AA = np.sum(((dat - mod)/sig)**2)\n",
    "    BB = np.sum((dat - mod)/sig**2)\t\n",
    "    CC = np.sum(1/sig**2)\n",
    "    chi = AA - (BB**2)/CC\n",
    "    return chi, BB/CC\n",
    "\n",
    "\n",
    "def prior(theta): # log(pi)\n",
    "    ct = 1\n",
    "    r = np.diag(np.ones(len(theta))*ct)\n",
    "    p = -0.5*np.log(np.linalg.det(2*np.pi*r)) - 0.5*theta.dot((np.linalg.inv(r)).dot(theta)) \n",
    "    return p\n",
    "\n",
    "\n",
    "def acepta(ec, ep, EC, EP, x, X):\n",
    "    alpha = min(- EP - EC + ep + ec, 0) # log(alpha)\n",
    "    u = np.log(np.random.uniform())\n",
    "    if u<alpha:\n",
    "        return X, EP\n",
    "    else:\n",
    "        return x, ep\n",
    "\n",
    "\n",
    "def EHubble(theta, z): # parametro de hubble\n",
    "    om0 = theta[0]\n",
    "    ol = theta[1]\n",
    "    w = theta[2]\n",
    "    arg = om0*(1 + z)**3 + (1 - om0 - ol)*(1 + z)**2 + ol*(1 + z)**(3*(1 + w))\n",
    "    EE = np.sqrt(arg)\n",
    "    return EE, arg\n",
    "\n",
    "\n",
    "def modelo(theta, z): # modulo de la distancia teorico\n",
    "    om0 = theta[0]\n",
    "    ol = theta[1]\n",
    "    #print(om0, ol)\n",
    "    omega_k = 1 - om0 - ol\n",
    "    #print(omega_k)\n",
    "    E = EHubble(theta, z)[0]\n",
    "    I = sci.cumtrapz(1/E, z, initial=0)+z[0]*((1/E)[0] + 1)/2\n",
    "    o_k_s = np.sqrt(abs(omega_k))\n",
    "    if omega_k==0:\n",
    "        dl = (1 + z)*I\n",
    "    elif omega_k<0:\n",
    "        dl = (1 + z)*np.sin(o_k_s*I)/o_k_s\n",
    "    elif omega_k>0:\t\n",
    "        dl = (1 + z)*np.sinh(o_k_s*I)/o_k_s\t\n",
    "    dist = 5*np.log10(dl + 1e-300) # estabilidad numerica\n",
    "    #if (-np.inf==dist).any(): \n",
    "    #    print(theta)\n",
    "    return dist\n",
    "\n",
    "\n",
    "def tasa(tant, tpos):\n",
    "    l = len(tant)\n",
    "    if np.sum(tant==tpos)==l:\n",
    "        c = 0\n",
    "    else:\n",
    "        c = 1\n",
    "    return c\n",
    "\n",
    "\n",
    "def revisa(theta, z):\n",
    "    arg = EHubble(theta, z)[1]\n",
    "    bol = np.sum(arg<0)\n",
    "    print(bol)\n",
    "    if bol>0:\n",
    "        a = 0 # raiz imaginaria \n",
    "    else:\n",
    "        a = 1 # raiz real\n",
    "    return a\n",
    "\n",
    "\n",
    "def argmin2(t1, t2, t3, V): # busca en base a vector chi2 y devulve minimos de los parametros\n",
    "    amin = np.argmin(V)\n",
    "    return t1[amin], t2[amin], t3[amin]\n",
    "\n",
    "\n",
    "def potencial(dat, sigma, theta, z):\n",
    "    mod = modelo(theta, z)\n",
    "    u = - likelihood(mod, dat, sigma) - prior(theta) \n",
    "    return u\n",
    "\n",
    "\n",
    "def cinetica(p, m):\n",
    "    k = np.sum(p**2/2/m)\n",
    "    return k\n",
    "\n",
    "\n",
    "def hamiltoniano(p, dat, sigma, theta, z, m=1):\n",
    "    h = cinetica(p, m) + potencial(dat, sigma, theta, z)\n",
    "    return h\n",
    "\n",
    "\n",
    "def gradiente(dw, theta, z, dat, sigma):\n",
    "\n",
    "    tf = theta + theta*dw\n",
    "    tb = theta - theta*dw\n",
    "    grad = (potencial(dat, sigma, tf, z) - potencial(dat, sigma, tb, z))/(2*dw)\n",
    "    return grad\n",
    "\n",
    "\n",
    "def leapfrog(l, e, dw, theta, m, z, dat, sigma):\n",
    "\n",
    "    qe = theta\n",
    "    while True:\n",
    "\n",
    "        pi = np.random.multivariate_normal(mean=np.zeros(3), cov=np.diag(m))\n",
    "        pe = pi\n",
    "        X = []\n",
    "        P = []\n",
    "        X.append(theta)\n",
    "        P.append(pe)\n",
    "        for i in range(l):\n",
    "  \n",
    "            #print(i)\n",
    "            #rev = revisa1(qe)*revisa1(qe + dw)*revisa1(qe - dw) # revisa(qe, z)*revisa(qe + 0.5*dw, z)*revisa(qe - 0.5*dw, z)\n",
    "            #print(rev)\n",
    "            #if rev:\n",
    "            #    break            \n",
    "            #print('ant pe', pe)\n",
    "            #print('ant qe', qe)\n",
    "            #print('grad', gradiente(dw, qe, z, dat, sigma))\n",
    "            pe = pe - 0.5*e*gradiente(dw, qe, z, dat, sigma) # actualiza momento en e/2\n",
    "            \n",
    "            #print('desp pe', pe)\n",
    "            \n",
    "            qe = qe + e*pe/m\n",
    "            if qe[0]<0:\n",
    "                qe[0] = qe[0]*-1\n",
    "                pe[0] = pe[0]*-1\n",
    "            if qe[1]<0:\n",
    "                qe[1] = qe[1]*-1\n",
    "                pe[1] = pe[1]*-1\n",
    "            if qe[2]>1/3:\n",
    "                qe[2] = 1/3 - qe[2]\n",
    "                pe[2] = pe[2]*-1\n",
    "      \n",
    "            #rev = revisa1(qe)*revisa1(qe + dw)*revisa1(qe - dw) # revisa(qe, z)*revisa(qe + 0.5*dw, z)*revisa(qe - 0.5*dw, z)\n",
    "            #print(rev)\n",
    "            #if rev:\n",
    "            #    break\n",
    "\n",
    "            pe = pe - 0.5*e*gradiente(dw, qe, z, dat, sigma)\n",
    "\n",
    "            P.append(pe)\n",
    "            X.append(qe)\n",
    "            if i + 1==l: \n",
    "                i += 1\n",
    "        if i==l: \n",
    "            break\n",
    "\n",
    "    P = np.array(P)\n",
    "    X = np.array(X)\n",
    "    return X, P\n",
    "\n",
    "\n",
    "def revisa1(X):\n",
    "    x = X[0]\n",
    "    y = X[1]\n",
    "    z = X[2]\n",
    "    xlim = np.array([0, 1])\n",
    "    ylim = xlim\n",
    "    zlim = np.array([-np.inf, 1/3])\n",
    "    if xlim[0]<x<xlim[1] and ylim[0]<y<ylim[1] and zlim[0]<z<zlim[1]:\n",
    "        return 1\n",
    "    else:\n",
    "        return 0\n",
    "    \n",
    "    \n",
    "def HMC(modelo, datos, ds, dg, N, L, params, cov, q0):\n",
    "    \"\"\"\n",
    "    datos: X, F(X)\n",
    "    params: ['p1', 'p2', ..., 'pn']\n",
    "    cov: matriz de covarianza de datos\n",
    "    \"\"\"\n",
    "    # Matrices de datos de la cadena\n",
    "    X = datos[0]\n",
    "    Y = datos[1]\n",
    "    chain = [] \n",
    "    post = [] \n",
    "    chi_2 = []\n",
    "    Ratio = []\n",
    "    H = []\n",
    "    acept = 0\n",
    "    mod1 = modelo(q0, X)\n",
    "    pos1 = potencial(Y, cov, q0, X)\n",
    "    Chi1 = chi2(mod1, Y, cov)[0]\n",
    "    chain.append(q0)\n",
    "    post.append(pos1)\n",
    "    chi_2.append(Chi1)\n",
    "    Ratio.append(100)\n",
    "\n",
    "    Ti = time.time()\n",
    "    for i in range(N):\n",
    "        \n",
    "        q = chain[i]\n",
    "        #print(q)\n",
    "        # revision si proposal no indefine la busqueda\n",
    "        #Q, P = leapfrog(L, ps, pg, q, m, redshift, mu_obs, cov)\n",
    "        #Q1 = Q[-1]\n",
    "        #P1 = P[-1]\n",
    "\n",
    "        while True:\n",
    "            Q, P = leapfrog(L, ds, dg, q, m, X, Y, cov)\n",
    "            Q1 = Q[-1]\n",
    "            P1 = P[-1]\n",
    "            if revisa1(Q1):\n",
    "                break\n",
    "            #if revisa(Q1, redshift)==1: # que la raiz no sea imaginaria\n",
    "             #   break\n",
    "\n",
    "        H.append(Q)\n",
    "        t = cinetica(P1[0], m)\n",
    "        u = potencial(Y, cov, q, X)\n",
    "        T = cinetica(P1, m)\n",
    "        U = potencial(Y, cov, Q1, X)\n",
    "        A = acepta(t, u, T, U, q, Q1)\n",
    "        chain.append(A[0])\n",
    "        post.append(A[1])\n",
    "        mod1 = modelo(A[0], X)\n",
    "        Chi1 = chi2(mod1, Y, cov)[0]\n",
    "        chi_2.append(Chi1)\n",
    "        # ratio de aceptacion\n",
    "        acept += tasa(chain[i], chain[i + 1]) \n",
    "        Ratio.append(acept/(i+1)*100)\n",
    "        if i%100==0:\n",
    "            print(i)\n",
    "            print('ratio', Ratio[i])\n",
    "    \n",
    "\n",
    "    Tf = time.time()\n",
    "    print('Tiempo cadena', np.around(Tf - Ti, 0), 's')\n",
    "\n",
    "    ratio = acept/N*100\n",
    "    print('ratio %', np.rint(ratio))\n",
    "\n",
    "    post = np.array(post)\n",
    "    chain = np.array(chain)\n",
    "    chi_2 = np.array(chi_2)\n",
    "    Ratio = np.array(Ratio)\n",
    "    H = np.array(H)\n",
    "\n",
    "    t1 = chain[:,0]\n",
    "    t2 = chain[:,1]\n",
    "    t3 = chain[:,2]\n",
    "\n",
    "    # busca argumento del minimo de chi2\n",
    "    t1m, t2m, t3m = np.around(argmin2(t1, t2, t3, chi_2),3)\n",
    "    mins = [t1m, t2m, t3m]\n",
    "    muestras = {}\n",
    "    for i in range(len(params)):\n",
    "        muestras[params[i]] = chain[:, i]\n",
    "    return muestras, Ratio, chi_2, post, mins"
   ]
  },
  {
   "cell_type": "code",
   "execution_count": 6,
   "metadata": {},
   "outputs": [],
   "source": [
    "# saved things directory\n",
    "direc = '/home/mauricio/Documents/Uni/Intro_2/' + 'gal.txt'\n",
    "\n",
    "# Carga de datos\n",
    "redshift = np.genfromtxt('gal.txt', usecols=(1))\n",
    "mu_obs = np.genfromtxt('gal.txt', usecols=(2)) # m - M\n",
    "cov = np.genfromtxt('gal.txt', usecols=(3))\n",
    "\n",
    "p = np.argsort(redshift)\n",
    "redshift = redshift[p]\n",
    "mu_obs = mu_obs[p]\n",
    "cov = cov[p]\n",
    "cov = np.diag(cov)"
   ]
  },
  {
   "cell_type": "code",
   "execution_count": 11,
   "metadata": {},
   "outputs": [
    {
     "name": "stdout",
     "output_type": "stream",
     "text": [
      "pasos solver: 5\n"
     ]
    }
   ],
   "source": [
    "# configuracion cadena\n",
    "\n",
    "# params\n",
    "labs = [r'$\\Omega_{m}$', r'$\\Omega_{\\Lambda}$', r'w']\n",
    "labs1 = [r'\\Omega_{m}', r'\\Omega_{\\Lambda}', r'w']\n",
    "\n",
    "M = -19.3182761161\n",
    "Chains = []\n",
    "Xi2 = []\n",
    "Post = []\n",
    "COV = []\n",
    "params = 3 # numero de parametros\n",
    "r = 0.75e-2 #0.75e-2\n",
    "m = np.array([1, 1, 1])*1e-5  # np.ones(3)*r # (np.array([0.4, 1.125, 4])**2)*1e-2  \n",
    "pg = 1e-4 # paso gradiente # 1e-4\n",
    "ps = pg*10 # paso solver\n",
    "'numero de parametros', params\n",
    "L = 5\n",
    "print('pasos solver:', L)\n",
    "q = np.random.uniform(low=[0,0,-5], high=[1, 1, 1/3], size=3)\n"
   ]
  },
  {
   "cell_type": "code",
   "execution_count": 12,
   "metadata": {},
   "outputs": [
    {
     "ename": "NameError",
     "evalue": "name 't1' is not defined",
     "output_type": "error",
     "traceback": [
      "\u001b[0;31m---------------------------------------------------------------------------\u001b[0m",
      "\u001b[0;31mNameError\u001b[0m                                 Traceback (most recent call last)",
      "\u001b[0;32m<ipython-input-12-058f94d91756>\u001b[0m in \u001b[0;36m<module>\u001b[0;34m()\u001b[0m\n\u001b[1;32m      4\u001b[0m \u001b[0mnames\u001b[0m \u001b[0;34m=\u001b[0m \u001b[0;34m[\u001b[0m\u001b[0;34m\"x%s\"\u001b[0m\u001b[0;34m%\u001b[0m\u001b[0mi\u001b[0m \u001b[0;32mfor\u001b[0m \u001b[0mi\u001b[0m \u001b[0;32min\u001b[0m \u001b[0mrange\u001b[0m\u001b[0;34m(\u001b[0m\u001b[0mndim\u001b[0m\u001b[0;34m)\u001b[0m\u001b[0;34m]\u001b[0m\u001b[0;34m\u001b[0m\u001b[0m\n\u001b[1;32m      5\u001b[0m \u001b[0mlabels\u001b[0m \u001b[0;34m=\u001b[0m \u001b[0;34m[\u001b[0m\u001b[0;34m\"x_%s\"\u001b[0m\u001b[0;34m%\u001b[0m\u001b[0mi\u001b[0m \u001b[0;32mfor\u001b[0m \u001b[0mi\u001b[0m \u001b[0;32min\u001b[0m \u001b[0mrange\u001b[0m\u001b[0;34m(\u001b[0m\u001b[0mndim\u001b[0m\u001b[0;34m)\u001b[0m\u001b[0;34m]\u001b[0m\u001b[0;34m\u001b[0m\u001b[0m\n\u001b[0;32m----> 6\u001b[0;31m \u001b[0msamps\u001b[0m \u001b[0;34m=\u001b[0m \u001b[0mnp\u001b[0m\u001b[0;34m.\u001b[0m\u001b[0mvstack\u001b[0m\u001b[0;34m(\u001b[0m\u001b[0;34m(\u001b[0m\u001b[0mt1\u001b[0m\u001b[0;34m,\u001b[0m \u001b[0mt2\u001b[0m\u001b[0;34m,\u001b[0m \u001b[0mt3\u001b[0m\u001b[0;34m)\u001b[0m\u001b[0;34m)\u001b[0m\u001b[0;34m.\u001b[0m\u001b[0mT\u001b[0m\u001b[0;34m\u001b[0m\u001b[0m\n\u001b[0m\u001b[1;32m      7\u001b[0m \u001b[0msamples\u001b[0m \u001b[0;34m=\u001b[0m \u001b[0mMCSamples\u001b[0m\u001b[0;34m(\u001b[0m\u001b[0msamples\u001b[0m\u001b[0;34m=\u001b[0m\u001b[0msamps\u001b[0m\u001b[0;34m,\u001b[0m \u001b[0mnames\u001b[0m\u001b[0;34m=\u001b[0m\u001b[0mlabs1\u001b[0m\u001b[0;34m,\u001b[0m \u001b[0mlabels\u001b[0m\u001b[0;34m=\u001b[0m\u001b[0mlabs1\u001b[0m\u001b[0;34m)\u001b[0m\u001b[0;34m\u001b[0m\u001b[0m\n\u001b[1;32m      8\u001b[0m \u001b[0;34m\u001b[0m\u001b[0m\n",
      "\u001b[0;31mNameError\u001b[0m: name 't1' is not defined"
     ]
    }
   ],
   "source": [
    "#Get the getdist MCSamples objects for the samples, specifying same parameter\n",
    "#names and labels; if not specified weights are assumed to all be unity\n",
    "ndim = 3\n",
    "names = [\"x%s\"%i for i in range(ndim)]\n",
    "labels = [\"x_%s\"%i for i in range(ndim)]\n",
    "samps = np.vstack((t1, t2, t3)).T\n",
    "samples = MCSamples(samples=samps, names=labs1, labels=labs1)\n",
    "\n",
    "#Triangle plot\n",
    "g = plots.getSubplotPlotter()\n",
    "samples.updateSettings({'contours': [0.68, 0.95, 0.99]})\n",
    "g.settings.num_plot_contours = 3\n",
    "g.triangle_plot([samples], filled=True)"
   ]
  },
  {
   "cell_type": "code",
   "execution_count": 203,
   "metadata": {},
   "outputs": [
    {
     "name": "stdout",
     "output_type": "stream",
     "text": [
      "q0 [ 0.9797393   0.27721854 -3.32322602]\n",
      "0\n",
      "ratio 100\n",
      "100\n",
      "ratio 48.0\n",
      "200\n",
      "ratio 52.0\n",
      "300\n",
      "ratio 50.66666666666667\n",
      "400\n",
      "ratio 52.0\n",
      "500\n",
      "ratio 54.800000000000004\n",
      "600\n",
      "ratio 53.166666666666664\n",
      "700\n",
      "ratio 52.0\n",
      "800\n",
      "ratio 50.625\n",
      "900\n",
      "ratio 50.77777777777778\n",
      "1000\n",
      "ratio 50.6\n",
      "1100\n",
      "ratio 49.81818181818182\n",
      "1200\n",
      "ratio 48.833333333333336\n",
      "1300\n",
      "ratio 47.84615384615385\n",
      "1400\n",
      "ratio 47.785714285714285\n",
      "1500\n",
      "ratio 47.66666666666667\n",
      "1600\n",
      "ratio 46.9375\n",
      "1700\n",
      "ratio 45.88235294117647\n",
      "1800\n",
      "ratio 45.22222222222222\n",
      "1900\n",
      "ratio 44.315789473684205\n",
      "2000\n",
      "ratio 43.45\n",
      "2100\n",
      "ratio 42.61904761904762\n",
      "2200\n",
      "ratio 42.18181818181818\n",
      "2300\n",
      "ratio 41.56521739130435\n",
      "2400\n",
      "ratio 40.666666666666664\n",
      "2500\n",
      "ratio 40.2\n",
      "2600\n",
      "ratio 39.57692307692307\n",
      "2700\n",
      "ratio 39.07407407407407\n",
      "2800\n",
      "ratio 38.17857142857143\n",
      "2900\n",
      "ratio 37.41379310344828\n",
      "3000\n",
      "ratio 36.666666666666664\n",
      "3100\n",
      "ratio 36.12903225806451\n",
      "3200\n",
      "ratio 35.4375\n",
      "3300\n",
      "ratio 34.63636363636364\n",
      "3400\n",
      "ratio 33.970588235294116\n",
      "3500\n",
      "ratio 33.4\n",
      "3600\n",
      "ratio 32.77777777777778\n",
      "3700\n",
      "ratio 32.08108108108108\n",
      "3800\n",
      "ratio 31.81578947368421\n",
      "3900\n",
      "ratio 31.461538461538463\n",
      "4000\n",
      "ratio 30.9\n",
      "4100\n",
      "ratio 30.560975609756095\n",
      "4200\n",
      "ratio 30.166666666666668\n",
      "4300\n",
      "ratio 29.813953488372093\n",
      "4400\n",
      "ratio 29.545454545454547\n",
      "4500\n",
      "ratio 29.06666666666667\n",
      "4600\n",
      "ratio 28.630434782608695\n",
      "4700\n",
      "ratio 28.297872340425535\n",
      "4800\n",
      "ratio 27.9375\n",
      "4900\n",
      "ratio 27.612244897959183\n",
      "5000\n",
      "ratio 27.26\n",
      "5100\n",
      "ratio 26.90196078431373\n",
      "5200\n",
      "ratio 26.53846153846154\n",
      "5300\n",
      "ratio 26.28301886792453\n",
      "5400\n",
      "ratio 25.981481481481485\n",
      "5500\n",
      "ratio 25.727272727272727\n",
      "5600\n",
      "ratio 25.339285714285715\n",
      "5700\n",
      "ratio 25.105263157894736\n",
      "5800\n",
      "ratio 24.793103448275865\n",
      "5900\n",
      "ratio 24.54237288135593\n",
      "6000\n",
      "ratio 24.233333333333334\n",
      "6100\n",
      "ratio 24.016393442622952\n",
      "6200\n",
      "ratio 23.790322580645164\n",
      "6300\n",
      "ratio 23.46031746031746\n",
      "6400\n",
      "ratio 23.171875\n",
      "6500\n",
      "ratio 22.876923076923077\n",
      "6600\n",
      "ratio 22.62121212121212\n",
      "6700\n",
      "ratio 22.432835820895523\n",
      "6800\n",
      "ratio 22.16176470588235\n",
      "6900\n",
      "ratio 22.0\n",
      "7000\n",
      "ratio 21.8\n",
      "7100\n",
      "ratio 21.563380281690144\n",
      "7200\n",
      "ratio 21.333333333333336\n",
      "7300\n",
      "ratio 21.21917808219178\n",
      "7400\n",
      "ratio 20.95945945945946\n",
      "7500\n",
      "ratio 20.773333333333333\n",
      "7600\n",
      "ratio 20.592105263157894\n",
      "7700\n",
      "ratio 20.363636363636363\n",
      "7800\n",
      "ratio 20.17948717948718\n",
      "7900\n",
      "ratio 19.962025316455694\n",
      "8000\n",
      "ratio 19.75\n",
      "8100\n",
      "ratio 19.59259259259259\n",
      "8200\n",
      "ratio 19.451219512195124\n",
      "8300\n",
      "ratio 19.32530120481928\n",
      "8400\n",
      "ratio 19.130952380952383\n",
      "8500\n",
      "ratio 19.0\n",
      "8600\n",
      "ratio 18.825581395348838\n",
      "8700\n",
      "ratio 18.67816091954023\n",
      "8800\n",
      "ratio 18.579545454545453\n",
      "8900\n",
      "ratio 18.370786516853933\n",
      "9000\n",
      "ratio 18.177777777777777\n",
      "9100\n",
      "ratio 18.021978021978022\n",
      "9200\n",
      "ratio 17.858695652173914\n",
      "9300\n",
      "ratio 17.67741935483871\n",
      "9400\n",
      "ratio 17.53191489361702\n",
      "9500\n",
      "ratio 17.378947368421052\n",
      "9600\n",
      "ratio 17.197916666666664\n",
      "9700\n",
      "ratio 17.072164948453608\n",
      "9800\n",
      "ratio 16.92857142857143\n",
      "9900\n",
      "ratio 16.838383838383837\n",
      "Tiempo cadena 357.0 s\n",
      "ratio % 17.0\n"
     ]
    }
   ],
   "source": [
    "ds = 1e-3\n",
    "q0 = np.random.uniform(low=[0,0,-5], high=[1, 1, 1/3], size=3)\n",
    "print('q0', q0)\n",
    "m = np.array([1, 1, 1])*1e-1\n",
    "R = HMC(modelo, [redshift, mu_obs], ds=ds, dg=ds*1e-1, N=10000, L=10, params=['om', 'ol', 'w'], cov=cov, q0=q0)\n"
   ]
  },
  {
   "cell_type": "code",
   "execution_count": 188,
   "metadata": {},
   "outputs": [
    {
     "data": {
      "text/plain": [
       "[<matplotlib.lines.Line2D at 0x7f29a7efb208>]"
      ]
     },
     "execution_count": 188,
     "metadata": {},
     "output_type": "execute_result"
    },
    {
     "data": {
      "image/png": "[encoded data removed]",
      "text/plain": [
       "<matplotlib.figure.Figure at 0x7f29a7efbdd8>"
      ]
     },
     "metadata": {},
     "output_type": "display_data"
    }
   ],
   "source": [
    "fx = modelo(np.array(R[4]), redshift)\n",
    "plt.plot(redshift, mu_obs)\n",
    "plt.plot(redshift, fx - M)"
   ]
  },
  {
   "cell_type": "code",
   "execution_count": 204,
   "metadata": {},
   "outputs": [
    {
     "data": {
      "text/plain": [
       "<matplotlib.collections.PathCollection at 0x7f29a7c0acf8>"
      ]
     },
     "execution_count": 204,
     "metadata": {},
     "output_type": "execute_result"
    },
    {
     "data": {
      "image/png": "[encoded data removed]",
      "text/plain": [
       "<matplotlib.figure.Figure at 0x7f29a7e33f28>"
      ]
     },
     "metadata": {},
     "output_type": "display_data"
    }
   ],
   "source": [
    "plt.scatter(R[0]['om'], R[0]['ol'])"
   ]
  },
  {
   "cell_type": "code",
   "execution_count": 205,
   "metadata": {},
   "outputs": [
    {
     "data": {
      "text/plain": [
       "<matplotlib.collections.PathCollection at 0x7f29a7a57128>"
      ]
     },
     "execution_count": 205,
     "metadata": {},
     "output_type": "execute_result"
    },
    {
     "data": {
      "image/png": "[encoded data removed]",
      "text/plain": [
       "<matplotlib.figure.Figure at 0x7f29a7c5b7b8>"
      ]
     },
     "metadata": {},
     "output_type": "display_data"
    }
   ],
   "source": [
    "plt.scatter(R[0]['om'], R[0]['w'])"
   ]
  },
  {
   "cell_type": "code",
   "execution_count": 206,
   "metadata": {},
   "outputs": [
    {
     "data": {
      "text/plain": [
       "<matplotlib.collections.PathCollection at 0x7f29a7b65780>"
      ]
     },
     "execution_count": 206,
     "metadata": {},
     "output_type": "execute_result"
    },
    {
     "data": {
      "image/png": "[encoded data removed]",
      "text/plain": [
       "<matplotlib.figure.Figure at 0x7f29a7ba9c50>"
      ]
     },
     "metadata": {},
     "output_type": "display_data"
    }
   ],
   "source": [
    "plt.scatter(R[0]['ol'], R[0]['w'])"
   ]
  },
  {
   "cell_type": "code",
   "execution_count": null,
   "metadata": {},
   "outputs": [],
   "source": [
    "xr = np.linspace(0, 1, 20)\n",
    "yr = np.linspace(0, 1, 20)\n",
    "zr = np.linspace(-30, -1/3, 20)\n",
    "Us = np.zeros((len(xr), len(yr), len(zr)))\n",
    "for i in range(len(xr)):\n",
    "    for j in range(len(yr)):\n",
    "        for k in range(len(zr)):\n",
    "            theta = np.array([xr[i], yr[j], zr[k]])\n",
    "            pot = potencial(mu_obs, cov, theta, redshift)\n",
    "            Us[i][j][k] = pot\n"
   ]
  },
  {
   "cell_type": "code",
   "execution_count": null,
   "metadata": {},
   "outputs": [],
   "source": [
    "plt.imshow(Us[:][:][5], origin='lower')"
   ]
  },
  {
   "cell_type": "code",
   "execution_count": 181,
   "metadata": {},
   "outputs": [
    {
     "name": "stdout",
     "output_type": "stream",
     "text": [
      "q0 [ 0.5  0.5 -1. ]\n"
     ]
    },
    {
     "data": {
      "text/plain": [
       "<matplotlib.collections.PathCollection at 0x7f29a81eca58>"
      ]
     },
     "execution_count": 181,
     "metadata": {},
     "output_type": "execute_result"
    },
    {
     "data": {
      "image/png": "[encoded data removed]",
      "text/plain": [
       "<matplotlib.figure.Figure at 0x7f29a8172860>"
      ]
     },
     "metadata": {},
     "output_type": "display_data"
    }
   ],
   "source": [
    "ds = 1e-3\n",
    "m = np.array([1, 1, 10])*1e-1\n",
    "print('q0', q0)\n",
    "X, P = leapfrog(l=10, e=ds, dw=ds*1e-1, theta=q0, m=m, z=redshift, dat=mu_obs, sigma=cov)\n",
    "plt.plot(X[:, 0], X[:, 1], marker='.')\n",
    "plt.scatter(X[0, 0], X[0, 1], marker='x', color='red')"
   ]
  },
  {
   "cell_type": "code",
   "execution_count": 182,
   "metadata": {},
   "outputs": [
    {
     "data": {
      "text/plain": [
       "[<matplotlib.lines.Line2D at 0x7f29a80700f0>]"
      ]
     },
     "execution_count": 182,
     "metadata": {},
     "output_type": "execute_result"
    },
    {
     "data": {
      "image/png": "[encoded data removed]",
      "text/plain": [
       "<matplotlib.figure.Figure at 0x7f29a853f160>"
      ]
     },
     "metadata": {},
     "output_type": "display_data"
    }
   ],
   "source": [
    "plt.plot(X[:, 0], X[:, 2], marker='.')"
   ]
  },
  {
   "cell_type": "code",
   "execution_count": 183,
   "metadata": {},
   "outputs": [
    {
     "data": {
      "text/plain": [
       "[<matplotlib.lines.Line2D at 0x7f29a804f7f0>]"
      ]
     },
     "execution_count": 183,
     "metadata": {},
     "output_type": "execute_result"
    },
    {
     "data": {
      "image/png": "[encoded data removed]",
      "text/plain": [
       "<matplotlib.figure.Figure at 0x7f29a80d4e80>"
      ]
     },
     "metadata": {},
     "output_type": "display_data"
    }
   ],
   "source": [
    "plt.plot(X[:, 1], X[:, 2], marker='.')"
   ]
  },
  {
   "cell_type": "code",
   "execution_count": 184,
   "metadata": {},
   "outputs": [
    {
     "data": {
      "text/plain": [
       "<matplotlib.collections.PathCollection at 0x7f29a8108e80>"
      ]
     },
     "execution_count": 184,
     "metadata": {},
     "output_type": "execute_result"
    },
    {
     "data": {
      "image/png": "[encoded data removed]",
      "text/plain": [
       "<matplotlib.figure.Figure at 0x7f29a802d160>"
      ]
     },
     "metadata": {},
     "output_type": "display_data"
    }
   ],
   "source": [
    "plt.plot(P[:, 0], P[:, 1], marker='.')\n",
    "plt.scatter(P[0, 0], P[0, 1], marker='x', color='red')"
   ]
  },
  {
   "cell_type": "code",
   "execution_count": 185,
   "metadata": {},
   "outputs": [
    {
     "data": {
      "text/plain": [
       "[<matplotlib.lines.Line2D at 0x7f29a800b0f0>]"
      ]
     },
     "execution_count": 185,
     "metadata": {},
     "output_type": "execute_result"
    },
    {
     "data": {
      "image/png": "[encoded data removed]",
      "text/plain": [
       "<matplotlib.figure.Figure at 0x7f29a800b160>"
      ]
     },
     "metadata": {},
     "output_type": "display_data"
    }
   ],
   "source": [
    "plt.plot(X[:, 0], P[:, 0], marker='.')\n",
    "plt.plot(X[:, 1], P[:, 1], marker='.')\n",
    "#plt.plot(X[:, 2], P[:, 2], marker='.')"
   ]
  },
  {
   "cell_type": "code",
   "execution_count": 186,
   "metadata": {},
   "outputs": [
    {
     "data": {
      "text/plain": [
       "[<matplotlib.lines.Line2D at 0x7f29a7eeaeb8>]"
      ]
     },
     "execution_count": 186,
     "metadata": {},
     "output_type": "execute_result"
    },
    {
     "data": {
      "image/png": "[encoded data removed]",
      "text/plain": [
       "<matplotlib.figure.Figure at 0x7f29a7f332e8>"
      ]
     },
     "metadata": {},
     "output_type": "display_data"
    }
   ],
   "source": [
    "HH = []\n",
    "for i in range(len(X)):\n",
    "    hh = hamiltoniano(p=P[i], dat=mu_obs, sigma=cov, theta=X[i], z=redshift, m=m)\n",
    "    HH.append(hh)\n",
    "plt.plot(HH)"
   ]
  },
  {
   "cell_type": "code",
   "execution_count": null,
   "metadata": {},
   "outputs": [],
   "source": []
  }
 ],
 "metadata": {
  "kernelspec": {
   "display_name": "Python 3",
   "language": "python",
   "name": "python3"
  },
  "language_info": {
   "codemirror_mode": {
    "name": "ipython",
    "version": 3
   },
   "file_extension": ".py",
   "mimetype": "text/x-python",
   "name": "python",
   "nbconvert_exporter": "python",
   "pygments_lexer": "ipython3",
   "version": "3.6.4"
  }
 },
 "nbformat": 4,
 "nbformat_minor": 2
}
