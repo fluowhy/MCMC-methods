{
 "cells": [
  {
   "cell_type": "code",
   "execution_count": 37,
   "metadata": {},
   "outputs": [],
   "source": [
    "import numpy as np\n",
    "import matplotlib.pyplot as plt\n",
    "from scipy import integrate as sci\n",
    "import time\n",
    "import pip\n",
    "from getdist import plots, MCSamples\n",
    "%matplotlib inline"
   ]
  },
  {
   "cell_type": "code",
   "execution_count": 38,
   "metadata": {},
   "outputs": [],
   "source": [
    "def install(package):\n",
    "    pip.main(['install', package])\n",
    "    return\n",
    "\n",
    "def likelihood(mod, dat, sigma): # retorna escalar, log(L)\n",
    "    sig = np.diagonal(sigma)\n",
    "    L = -0.5*chi2(mod, dat, sigma)[0]  + np.sum(-0.5*np.log(2*np.pi*sig**2))\n",
    "    #pp = np.argwhere((a1==-np.inf))\n",
    "    #a1[pp] = 0\n",
    "    return L\n",
    "\n",
    "\n",
    "def chi2(mod, dat, sigma):\n",
    "    sig = np.diagonal(sigma)\n",
    "    AA = np.sum(((dat - mod)/sig)**2)\n",
    "    BB = np.sum((dat - mod)/sig**2)\t\n",
    "    CC = np.sum(1/sig**2)\n",
    "    chi = AA - (BB**2)/CC\n",
    "    return chi, BB/CC\n",
    "\n",
    "\n",
    "def prior(theta): # vector de parametros anterior y posterior\n",
    "    ct = 1\n",
    "    r = np.diag(np.ones(len(theta))*ct)\n",
    "    p = -0.5*np.log(np.linalg.det(2*np.pi*r)) + -0.5*theta.dot((np.linalg.inv(r)).dot(theta)) \n",
    "    return p\n",
    "\n",
    "\n",
    "def acepta(T1, pos1, T2, pos2, m1, m2):\n",
    "    alpha = min(pos2 - pos1, 0) # log(alpha)\n",
    "    u = np.log(np.random.uniform())\n",
    "    if u<alpha:\n",
    "        return T2, pos2, m2\n",
    "    else:\n",
    "        return T1, pos1, m1\n",
    "\n",
    "\n",
    "def EHubble(theta, z): # parametro de hubble\n",
    "    om0 = theta[0]\n",
    "    ol = theta[1]\n",
    "    w = theta[2]\n",
    "    arg = om0*(1 + z)**3 + (1 - om0 - ol)*(1 + z)**2 + ol*(1 + z)**(3*(1 + w))\n",
    "    EE = np.sqrt(arg)\n",
    "    return EE, arg\n",
    "\n",
    "\n",
    "def modelo(theta,z): # modulo de la distancia teorico\n",
    "    om0 = theta[0]\n",
    "    ol = theta[1]\n",
    "    omega_k = 1 - om0 - ol\n",
    "    E = EHubble(theta, z)[0]\n",
    "    I = sci.cumtrapz(1/E, z, initial=0)+z[0]*((1/E)[0] + 1)/2\n",
    "    o_k_s = np.sqrt(abs(omega_k))\n",
    "    if omega_k==0:\n",
    "        dl = (1 + z)*I\n",
    "    elif omega_k<0:\n",
    "        dl = (1 + z)*np.sin(o_k_s*I)/o_k_s\n",
    "    elif omega_k>0:\t\n",
    "        dl = (1 + z)*np.sinh(o_k_s*I)/o_k_s\t\n",
    "    dist = 5*np.log10(dl)\n",
    "    if (-np.inf==dist).any(): \n",
    "        print(theta)\n",
    "    return dist\n",
    "\n",
    "\n",
    "def tasa(tant, tpos):\n",
    "    l = len(tant)\n",
    "    if np.sum(tant==tpos)==l:\n",
    "        c = 0\n",
    "    else:\n",
    "        c = 1\n",
    "    return c\n",
    "\n",
    "\n",
    "def revisa(theta, z):\n",
    "    arg = EHubble(theta, z)[1]\n",
    "    bol = np.sum(arg<0)\n",
    "    if bol>0:\n",
    "        a = 0\n",
    "    else:\n",
    "        a = 1\n",
    "    return a\n",
    "\n",
    "\n",
    "def region(f, x, y, z, alpha, n):\n",
    "    m = np.int(np.around(alpha*n,0))\n",
    "    argsort = np.argsort(f)\n",
    "    xs = x[argsort]\n",
    "    ys = y[argsort]\n",
    "    zs = z[argsort]\n",
    "    xsa = xs[:m]\n",
    "    ysa = ys[:m]\n",
    "    zsa = zs[:m]\n",
    "    return xsa, ysa, zsa\n",
    "\n",
    "\n",
    "def grafica(x, y, xmin, ymin, sx, sy, bins=100): #scatter+marginales\n",
    "    nullfmt = NullFormatter()         # no labels\n",
    "\n",
    "    # definitions for the axes\n",
    "    left, width = 0.1, 0.65\n",
    "    bottom, height = 0.1, 0.65\n",
    "    bottom_h = left_h = left + width + 0.02\n",
    "\n",
    "    rect_scatter = [left, bottom, width, height]\n",
    "    rect_histx = [left, bottom_h, width, 0.2]\n",
    "    rect_histy = [left_h, bottom, 0.2, height]\n",
    "\n",
    "    # start with a rectangular Figure\n",
    "    plt.figure(1, figsize=(8, 8))\n",
    "    axScatter = plt.axes(rect_scatter)\n",
    "    axHistx = plt.axes(rect_histx)\n",
    "    axHisty = plt.axes(rect_histy)\n",
    "\n",
    "    # no labels\n",
    "    axHistx.xaxis.set_major_formatter(nullfmt)\n",
    "    axHisty.yaxis.set_major_formatter(nullfmt)\n",
    "    \n",
    "    # the scatter plot:\n",
    "    axScatter.scatter(x, y, color='darkred', alpha=.4)\n",
    "    axScatter.scatter(xmin, ymin, color='black', label='mejor fit '+str(np.around(xmin, 3))+' '+str(np.around(ymin,3)))\n",
    "    axScatter.legend()\n",
    "\n",
    "    # now determine nice limits by hand:\n",
    "    binwidth = 0.25\n",
    "    xymax = np.max([np.max(np.fabs(x)), np.max(np.fabs(y))])\n",
    "    lim = (int(xymax/binwidth) + 1) * binwidth\n",
    "    a = 0.1\n",
    "    axScatter.set_xlim((min(x)-a, max(x)+a))\n",
    "    axScatter.set_ylim((min(y)-a, max(y)+a))\n",
    "    if sx=='t1':\n",
    "        sx = '$\\Omega_{m,0}$'\n",
    "    elif sx=='t2':\n",
    "        sx = '$\\Omega_{DE,0}$'\n",
    "    else:\n",
    "        sx = 'w'\n",
    "    if sy=='t1':\n",
    "        sy = '$\\Omega_{m,0}$'\n",
    "    elif sy=='t2':\n",
    "        sy = '$\\Omega_{DE,0}$'\n",
    "    else:\n",
    "        sy = 'w'\n",
    "\n",
    "    axScatter.set_xlabel(sx)\n",
    "    axScatter.set_ylabel(sy)\n",
    "\n",
    "    \n",
    "    axHistx.hist(x, bins=bins)\n",
    "    axHisty.hist(y, bins=bins, orientation='horizontal')\n",
    "\n",
    "    axHistx.set_xlim(axScatter.get_xlim())\n",
    "    axHisty.set_ylim(axScatter.get_ylim())\n",
    "\n",
    "    plt.show()\n",
    "    return\n",
    "\n",
    "# fuente https://matplotlib.org/examples/pylab_examples/scatter_hist.html\n",
    "\n",
    "def argmin1(t1, t2, t3, z, dat, sig): # calcula el min om, ol, w en base a chi2\t\n",
    "    minchic = np.inf\n",
    "    a = 0\n",
    "    for i,j,k in zip(t1,t2,t3):\n",
    "        mo = modelo(np.array([i,j,k]),z)\n",
    "        chic = chi2(mo, dat, sig)[0]\n",
    "        if chic<minchic:\n",
    "            amin = a\n",
    "            minchic = chic\n",
    "        a += 1\t\n",
    "    return t1[amin], t2[amin], t3[amin]\n",
    "\n",
    "\n",
    "def argmin2(t1, t2, t3, V): # busca en base a vector chi2 y devulve minimos de los parametros\t\n",
    "    amin = np.argmin(V)\n",
    "    return t1[amin], t2[amin], t3[amin]\n",
    "\n",
    "\n",
    "def dx2(s, n_p):\n",
    "    \"\"\"\n",
    "    s: sigmas\n",
    "    n_p: numero de parametros\n",
    "    \"\"\"\n",
    "    delta_x_2 = gammainccinv(n_p/2, erfc(s/np.sqrt(2)))\n",
    "    return delta_x_2\n",
    "\n",
    "\n",
    "def samples_s(sa1, sa2, x2, d_x2): # determina samples dentro de sigmas\n",
    "    ind_sam = np.where(x2<=min(x2)+d_x2)\n",
    "    return sa1[ind_sam], sa2[ind_sam]\n",
    "\n",
    "\n",
    "def cuenta(x2, W):\n",
    "    \"\"\"\n",
    "    recibe muestras de una distribucion y X2 para determinar los puntos y X2 para las regiones de credibilidad de 0.68, 0.95 y 0.99 \n",
    "    \"\"\"\n",
    "    ms = W.shape[1]\n",
    "    args = np.argsort(x2)\n",
    "    W = W[:,args]  \n",
    "    ms68 = int(np.rint(ms*0.68))\n",
    "    ms95 = int(np.rint(ms*0.95))\n",
    "    ms99 = int(np.rint(ms*0.99))\n",
    "    R = np.array([])\n",
    "    for wi in W:\n",
    "        R = np.concatenate((R, np.array((wi[:ms68], wi[:ms95], wi[:ms99]))))\n",
    "    return R, x2[ms68], x2[ms95], x2[ms99]"
   ]
  },
  {
   "cell_type": "code",
   "execution_count": 49,
   "metadata": {},
   "outputs": [
    {
     "name": "stdout",
     "output_type": "stream",
     "text": [
      "Requirement already satisfied: getdist in /srv/conda/lib/python3.6/site-packages\n"
     ]
    },
    {
     "name": "stderr",
     "output_type": "stream",
     "text": [
      "You are using pip version 9.0.1, however version 9.0.3 is available.\n",
      "You should consider upgrading via the 'pip install --upgrade pip' command.\n"
     ]
    },
    {
     "data": {
      "text/plain": [
       "<Figure size 432x288 with 0 Axes>"
      ]
     },
     "metadata": {},
     "output_type": "display_data"
    }
   ],
   "source": [
    "install('getdist')\n",
    "\n",
    "# saved things directory\n",
    "direc = '/home/mauricio/Documents/Uni/Intro_2/' + 'gal.txt'\n",
    "plt.clf()\n",
    "\n",
    "# Carga de datos\n",
    "redshift = np.genfromtxt('gal.txt', usecols=(1))\n",
    "mu_obs = np.genfromtxt('gal.txt', usecols=(2)) # m - M\n",
    "cov = np.genfromtxt('gal.txt', usecols=(3))\n",
    "\n",
    "p = np.argsort(redshift)\n",
    "redshift = redshift[p]\n",
    "mu_obs = mu_obs[p]\n",
    "cov = cov[p]\n",
    "cov = np.diag(cov)\n"
   ]
  },
  {
   "cell_type": "code",
   "execution_count": 46,
   "metadata": {},
   "outputs": [
    {
     "name": "stdout",
     "output_type": "stream",
     "text": [
      "covarianza ajustable\n",
      "parametros 3\n"
     ]
    }
   ],
   "source": [
    "# configuracion cadena\n",
    "\n",
    "# params\n",
    "labs = ['$\\Omega_{m}$', '$\\Omega_{\\Lambda}$', 'w']\n",
    "\n",
    "# numero de cadenas\n",
    "M = 1\n",
    "# matriz que guarda cadenas, chi2, dist. post., covarianza y tasa.\n",
    "Chains = []\n",
    "Xi2 = []\n",
    "Post = []\n",
    "COV = []\n",
    "Tasa = []\n",
    "# estado de covarianza, ajustable o no\n",
    "pcov = 1\n",
    "# numero de parametros\n",
    "params = 3\n",
    "# 0.6 para tres parametros, 1.2 para dos \n",
    "if params==2:\n",
    "    r = 1.2e-2 \n",
    "elif params==3:\n",
    "    r = 0.6e-2\n",
    "t = 0.1\n",
    "# covarianza inicial\n",
    "cov_ini = np.diag(np.array([0.4, 1.125, 4])**2)*0.5e-2\n",
    "covarianza = cov_ini\n",
    "if pcov==1:\n",
    "    print('covarianza ajustable')\n",
    "else:\n",
    "    print('covarianza estatica', r)\n",
    "print('parametros', params)\n",
    "\n",
    "while True:\t\n",
    "    T = np.random.uniform(low=[0,0,-5], high=[1, 2, 0], size=3)\n",
    "    if revisa(T,redshift)==1: \n",
    "        break\n",
    "#T = np.loadtxt('initial')\n",
    "#np.savetxt('initial', T)"
   ]
  },
  {
   "cell_type": "code",
   "execution_count": 66,
   "metadata": {},
   "outputs": [
    {
     "name": "stdout",
     "output_type": "stream",
     "text": [
      "covarianza [[0.0008     0.         0.        ]\n",
      " [0.         0.00632813 0.        ]\n",
      " [0.         0.         0.08      ]]\n",
      "params iniciales [ 0.84690151  0.8777629  -0.27568224]\n"
     ]
    },
    {
     "name": "stderr",
     "output_type": "stream",
     "text": [
      "/srv/conda/lib/python3.6/site-packages/ipykernel_launcher.py:43: RuntimeWarning: invalid value encountered in sqrt\n"
     ]
    },
    {
     "name": "stdout",
     "output_type": "stream",
     "text": [
      "Tiempo cadena 39.0 s\n",
      "ratio % 26.0\n",
      "burn in 68\n",
      "Xi2 minimo 0.277 0.588 -1.185\n"
     ]
    },
    {
     "data": {
      "text/plain": [
       "\"\\n# guarda cadena, chi2, acceptance ratio y covarianza en txt\\nnp.savetxt(direc+'chain_'+str(o), np.vstack((chain[:,0], chain[:,1], chain[:,2], chi_2, Ratio)).T)\\nnp.savetxt(direc+'chain_'+str(o)+'_cov', covarianza)\\n\""
      ]
     },
     "execution_count": 66,
     "metadata": {},
     "output_type": "execute_result"
    }
   ],
   "source": [
    "d = 0\n",
    "# numero de muestras\n",
    "N = 40000\n",
    "# matrices utilizadas en cadena, dist. post., modelo, chi2 y ratio de la cadena actual\n",
    "chain = [] \n",
    "post = [] \n",
    "mod = []\n",
    "chi_2 = []\n",
    "Ratio = []\n",
    "acept = 0\n",
    "# params iniciales, revisa que sean validos\t\n",
    "#covarianza = np.diag(np.array([0.4, 1.125, 4])**2)*0.5e-2\n",
    "\"\"\"\n",
    "if o!=0:\n",
    "    while True:\n",
    "        T = np.random.multivariate_normal(mean=np.mean(Chains[o - 1][bur:,:], axis=0), cov=covarianza)\n",
    "        if revisa(T,redshift)==1: \n",
    "            break\n",
    "\"\"\"\n",
    "print('covarianza', covarianza)\n",
    "print('params iniciales', T)\n",
    "mu_mod = modelo(T, redshift)\n",
    "pos = likelihood(mu_mod,mu_obs,cov)# + prior(T) \n",
    "# guarda datos iniciales de la cadena \n",
    "chain.append(T)\n",
    "post.append(pos)\n",
    "mod.append(mu_mod)\n",
    "chi_2.append(chi2(mu_mod, mu_obs, cov)[0])\n",
    "Ratio.append(100)\t\n",
    "\n",
    "# pasos de cadena\n",
    "Ti = time.time()\n",
    "for i in range(N):\n",
    "    # revisa si se paso umbral de burn in\n",
    "    \"\"\"\t\n",
    "    if chi_2[i]<=580 and d==0 and o!=0:\n",
    "        covarianza = COV[o]\n",
    "        d = 1\n",
    "        print('actualizada')\n",
    "        print(covarianza)\n",
    "    \"\"\"\t\n",
    "    # selecciona ultimo elemento de la cadena\n",
    "    T1 = chain[i]\n",
    "    # itera hasta que encuentra un proposal valido\n",
    "    while True:\n",
    "        T2 = np.random.multivariate_normal(mean=T1, cov=covarianza)\n",
    "        #T2[1] = 1 - T2[0]\n",
    "        if params==2:\n",
    "            T2[2] = -1\n",
    "        # que la raiz no sea imaginaria\t\t\n",
    "        if revisa(T2,redshift)==1: \n",
    "            break\n",
    "    # selecciona ultimo modelo\n",
    "    mod1 = mod[i]\n",
    "    # calcula modelo con proposal\n",
    "    mod2 = modelo(T2, redshift)\n",
    "    # selecciona ultima dis. post.\n",
    "    pos1 = post[i]\n",
    "    # calcula nueva dist. post.\n",
    "    pos2 = likelihood(mod2,mu_obs,cov)# + prior(T2)\n",
    "    # decision de aceptacion\n",
    "    A = acepta(T1, pos1, T2, pos2, mod1, mod2)\n",
    "    # guarda la variable aceptada (puede ser la anterior o proposal)\n",
    "    chain.append(A[0])\n",
    "    post.append(A[1])\n",
    "    mod.append(A[2])\n",
    "    chi_2.append(chi2(A[2], mu_obs, cov)[0])\n",
    "    # ratio de aceptacion\n",
    "    acept += tasa(chain[i], chain[i + 1]) \n",
    "    Ratio.append(acept/(i+1)*100)\n",
    "\n",
    "Tf = time.time()\n",
    "print('Tiempo cadena', np.around(Tf - Ti, 0), 's')\n",
    "ratio = acept/N*100\n",
    "print('ratio %', np.rint(ratio))\n",
    "\n",
    "# convierte listas a array\n",
    "post = np.array(post)\n",
    "chain = np.array(chain)\n",
    "mod = np.array(mod)\n",
    "chi_2 = np.array(chi_2)\n",
    "Ratio = np.array(Ratio)\n",
    "\n",
    "# guarda cadenas de cada parametro\n",
    "t1 = chain[:,0]#Get the getdist MCSamples objects for the samples, specifying same parameter\n",
    "t2 = chain[:,1]\n",
    "t3 = chain[:,2]\n",
    "\"\"\n",
    "# determina burn in\n",
    "bur = np.nonzero(chi_2<=580)[0][0]\n",
    "print('burn in', bur)\n",
    "\n",
    "# busca argumento del minimo de chi2\n",
    "t1m, t2m, t3m = np.around(argmin2(t1, t2, t3, chi_2), 3)\n",
    "print('Xi2 minimo', t1m, t2m, t3m)\n",
    "\"\"\"\n",
    "# guarda cadena, chi2, acceptance ratio y covarianza en txt\n",
    "np.savetxt(direc+'chain_'+str(o), np.vstack((chain[:,0], chain[:,1], chain[:,2], chi_2, Ratio)).T)\n",
    "np.savetxt(direc+'chain_'+str(o)+'_cov', covarianza)\n",
    "\"\"\"\n"
   ]
  },
  {
   "cell_type": "code",
   "execution_count": 67,
   "metadata": {},
   "outputs": [
    {
     "data": {
      "image/png": "[encoded data removed]",
      "text/plain": [
       "<Figure size 432x432 with 6 Axes>"
      ]
     },
     "metadata": {},
     "output_type": "display_data"
    }
   ],
   "source": [
    "#Get the getdist MCSamples objects for the samples, specifying same parameter\n",
    "#names and labels; if not specified weights are assumed to all be unity\n",
    "ndim = 3\n",
    "names = [\"x%s\"%i for i in range(ndim)]\n",
    "labels =  [\"x_%s\"%i for i in range(ndim)]\n",
    "samps = np.vstack((t1, t2, t3)).T\n",
    "samples = MCSamples(samples=samps, names=names, labels=labels)\n",
    "\n",
    "#Triangle plot\n",
    "g = plots.getSubplotPlotter()\n",
    "g.triangle_plot([samples], filled=True)"
   ]
  },
  {
   "cell_type": "code",
   "execution_count": 68,
   "metadata": {},
   "outputs": [
    {
     "data": {
      "image/png": "[encoded data removed]",
      "text/plain": [
       "<Figure size 288x216 with 1 Axes>"
      ]
     },
     "metadata": {},
     "output_type": "display_data"
    }
   ],
   "source": [
    "#1D marginalized plot\n",
    "g = plots.getSinglePlotter(width_inch=4)\n",
    "g.plot_1d(samples, 'x0')"
   ]
  },
  {
   "cell_type": "code",
   "execution_count": 69,
   "metadata": {},
   "outputs": [
    {
     "data": {
      "image/png": "[encoded data removed]",
      "text/plain": [
       "<Figure size 432x288 with 1 Axes>"
      ]
     },
     "metadata": {},
     "output_type": "display_data"
    }
   ],
   "source": [
    "g.plot_1d(samples, 'x1')"
   ]
  },
  {
   "cell_type": "code",
   "execution_count": 70,
   "metadata": {},
   "outputs": [
    {
     "data": {
      "image/png": "[encoded data removed]",
      "text/plain": [
       "<Figure size 432x288 with 1 Axes>"
      ]
     },
     "metadata": {},
     "output_type": "display_data"
    }
   ],
   "source": [
    "g.plot_1d(samples, 'x2')"
   ]
  },
  {
   "cell_type": "code",
   "execution_count": 71,
   "metadata": {},
   "outputs": [
    {
     "data": {
      "image/png": "[encoded data removed]",
      "text/plain": [
       "<Figure size 432x324 with 1 Axes>"
      ]
     },
     "metadata": {},
     "output_type": "display_data"
    }
   ],
   "source": [
    " g = plots.getSinglePlotter()\n",
    " samples.updateSettings({'contours': [0.68, 0.95, 0.99]})\n",
    " g.settings.num_plot_contours = 3\n",
    " g.plot_2d(samples, 'x0', 'x1');"
   ]
  }
 ],
 "metadata": {
  "kernelspec": {
   "display_name": "Python 3",
   "language": "python",
   "name": "python3"
  },
  "language_info": {
   "codemirror_mode": {
    "name": "ipython",
    "version": 3
   },
   "file_extension": ".py",
   "mimetype": "text/x-python",
   "name": "python",
   "nbconvert_exporter": "python",
   "pygments_lexer": "ipython3",
   "version": "3.6.4"
  }
 },
 "nbformat": 4,
 "nbformat_minor": 2
}
